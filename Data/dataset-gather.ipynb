{
 "cells": [
  {
   "attachments": {},
   "cell_type": "markdown",
   "metadata": {},
   "source": [
    "# Libraries"
   ]
  },
  {
   "cell_type": "code",
   "execution_count": 5,
   "metadata": {},
   "outputs": [
    {
     "name": "stderr",
     "output_type": "stream",
     "text": [
      "c:\\Users\\maris\\anaconda3\\lib\\site-packages\\pydub\\utils.py:170: RuntimeWarning: Couldn't find ffmpeg or avconv - defaulting to ffmpeg, but may not work\n",
      "  warn(\"Couldn't find ffmpeg or avconv - defaulting to ffmpeg, but may not work\", RuntimeWarning)\n"
     ]
    }
   ],
   "source": [
    "import csv, sys, os\n",
    "import re\n",
    "from pydub import AudioSegment\n",
    "import requests\n",
    "import tarfile\n",
    "import shutil"
   ]
  },
  {
   "attachments": {},
   "cell_type": "markdown",
   "metadata": {},
   "source": [
    "# Functions"
   ]
  },
  {
   "cell_type": "code",
   "execution_count": 40,
   "metadata": {},
   "outputs": [],
   "source": [
    "def createDirectory(path): # used\n",
    "    \"\"\" Create new directory\n",
    "    Input: path of the directory to be created.\n",
    "    Output: Creates the directory if it does not exist.\"\"\"\n",
    "    try: \n",
    "        os.mkdir(path)  # create directory at location of 'path'\n",
    "        return True\n",
    "    except FileExistsError:\n",
    "        return False  # if file already exists\n",
    "    \n",
    "def from_urbansound8k(dataset_path, labels, outputPath): # used\n",
    "    \"\"\" Elongates UrbanSound8k gunshot signals\n",
    "    Input: path of the UrbanSound8k dataset, file names, and output path for elongated signals.\n",
    "    Output: Saves the elongated signals to the output path.\"\"\"\n",
    "\n",
    "    # Create output directory\n",
    "    cleanOutputPath = os.path.join(outputPath, 'gunshots')  #\n",
    "    createDirectory(cleanOutputPath)  \n",
    "\n",
    "    #Cleanup\n",
    "    keepFiles = list()\n",
    "    with open(os.path.join(dataset_path, \"metadata\", \"UrbanSound8K.csv\")) as csvFile:\n",
    "        reader = csv.reader(csvFile)\n",
    "        for row in reader:\n",
    "            if row[7] in labels:\n",
    "                keepFiles.append(row)\n",
    "\n",
    "    # Find keepFiles\n",
    "    for item in keepFiles:\n",
    "        file_path = dataset_path + \"/audio/fold\" + item[-3] + \"/\"\n",
    "        shutil.copy(file_path + item[0], cleanOutputPath + \"/\" + item[0])\n",
    "\n",
    "def splitAudioFile(input_filepath, output_filepath, duration): # used\n",
    "    \"\"\" Splits audio files in segments of duration given.\n",
    "    Input: path to .wav audio files, output path, and duration.\n",
    "    Output: total duration/duration .wav audio files in the output path.\n",
    "    \"\"\"\n",
    "\n",
    "    #Open the file\n",
    "    audioFile = AudioSegment.from_wav(input_filepath)  \n",
    "    \n",
    "    #Split up the file\n",
    "    windowSize = duration * 1000\n",
    "    audioSegmentCount = int((len(audioFile) - (len(audioFile) % windowSize)) / windowSize)  \n",
    "    \n",
    "    #Write back the files\n",
    "    for i, chunk in enumerate(audioFile[::windowSize]):\n",
    "        filepath = os.path.join(output_filepath, str(i) + \".wav\")\n",
    "        with open(filepath, \"wb\") as f:\n",
    "            chunk.export(f, format=\"wav\")\n",
    "\n",
    "    return audioSegmentCount\n",
    "\n",
    "def downloadYoutubeFiles(output_path, videos, split_size): # used\n",
    "    \"\"\" Split Youtube video files.\n",
    "    Input: path to the output directory, list of video IDs, and split size.\n",
    "    Output: total duration/duration .wav audio files in the output path..\n",
    "    \"\"\"\n",
    "\n",
    "    for video in videos:\n",
    "        video_id = video[0]\n",
    "        start_time = video[1]\n",
    "        name = video[2]\n",
    "        \n",
    "        # Specify download path\n",
    "        download_path = output_path + \"YouTube\"\n",
    "        # Create output directory\n",
    "        split_path = os.path.join(output_path + \"SplitFiles\")\n",
    "        createDirectory(split_path)\n",
    "\n",
    "        # Split .wav files in bits of split_size seconds\n",
    "        splitFilesDirectory = os.path.join(split_path, name).replace(os.sep, '/')\n",
    "        createDirectory(splitFilesDirectory)\n",
    "        splitAudioFile(os.path.join(download_path, name + \".wav\").replace(os.sep, '/'), splitFilesDirectory, split_size)\n",
    "\n",
    "def addSilent(inputFile, outputFile, duration):\n",
    "    \"\"\" Adds silent padding to one input file.\n",
    "    Input: path to the input file, output path, and duration.\n",
    "    Output: the output file with silent padding added.\n",
    "    \"\"\"\n",
    "     \n",
    "    #Open the file\n",
    "    audioFile = AudioSegment.from_wav(inputFile)\n",
    "    \n",
    "    #Calculate padding size\n",
    "    paddingSize = (duration * 1000 - len(audioFile))/2\n",
    "    silent_segment = AudioSegment.silent(duration = paddingSize)\n",
    "    newAudioFile = silent_segment + audioFile + silent_segment\n",
    "    newAudioFile.export(outputFile, format=\"wav\")\n",
    "\n",
    "def uniformAudioFiles(inputDir, outputDir, duration):\n",
    "    \"\"\" Uniformly splits audio files.\n",
    "    Input: path to the gunshot .wav files, output path, and duration.\n",
    "    Output: same amount of .wav audio files in the output path.\n",
    "    \"\"\"\n",
    "\n",
    "    files = os.listdir(inputDir) \n",
    "    print(\"files: \", files)\n",
    "    createDirectory(outputDir)\n",
    "    i = 0\n",
    "    for file in files:\n",
    "        i += 1\n",
    "        outputPath = os.path.join(outputDir, str(files.index(file)) + \".wav\") # ./single_shots/1.wav\n",
    "        if i < 1:\n",
    "            print(\"file: \", file)\n",
    "            print(\"outputPath: \", outputPath)\n",
    "        addSilent(os.path.join(inputDir,file), outputPath, duration)\n",
    "\n",
    "def main_UrbanSound8K(path):\n",
    "    \"\"\"Creates a directory 'gunshots' with .wav files of single gunshot signals\"\"\"\n",
    "\n",
    "    dataset_path = path + \"UrbanSound8K\"\n",
    "    urbansound_labels = ['gun_shot']\n",
    "    from_urbansound8k(dataset_path, urbansound_labels, path)"
   ]
  },
  {
   "attachments": {},
   "cell_type": "markdown",
   "metadata": {},
   "source": [
    "# Diver code\n",
    "Comment and uncomment the three mean fuctions in the next code block to run different parts of the code."
   ]
  },
  {
   "cell_type": "code",
   "execution_count": 39,
   "metadata": {},
   "outputs": [
    {
     "name": "stdout",
     "output_type": "stream",
     "text": [
      "\n",
      " uniformAudioFiles(): \n",
      "inputDir:  C:/Users/maris/Documents/DataScience/Thesis/PinPoach_Thesis/Data/gunshots/\n",
      "ouputDir:  C:/Users/maris/Documents/DataScience/Thesis/PinPoach_Thesis/Data/SplitFiles/single_shots\n",
      "files:  ['102305-6-0-0.wav', '106955-6-0-0.wav', '110622-6-0-0.wav', '111048-6-0-0.wav', '122690-6-0-0.wav', '131571-6-0-0.wav', '133797-6-0-0.wav', '133797-6-1-0.wav', '133797-6-2-0.wav', '135526-6-0-0.wav', '135526-6-1-0.wav', '135526-6-10-0.wav', '135526-6-11-0.wav', '135526-6-12-0.wav', '135526-6-13-0.wav', '135526-6-2-0.wav', '135526-6-3-0.wav', '135526-6-4-0.wav', '135526-6-5-0.wav', '135526-6-6-0.wav', '135526-6-7-0.wav', '135526-6-8-0.wav', '135526-6-9-0.wav', '135527-6-0-0.wav', '135527-6-1-0.wav', '135527-6-10-0.wav', '135527-6-11-0.wav', '135527-6-12-0.wav', '135527-6-13-0.wav', '135527-6-14-0.wav', '135527-6-14-1.wav', '135527-6-14-10.wav', '135527-6-14-2.wav', '135527-6-14-3.wav', '135527-6-14-4.wav', '135527-6-14-5.wav', '135527-6-14-6.wav', '135527-6-14-7.wav', '135527-6-14-8.wav', '135527-6-14-9.wav', '135527-6-2-0.wav', '135527-6-3-0.wav', '135527-6-4-0.wav', '135527-6-5-0.wav', '135527-6-6-0.wav', '135527-6-7-0.wav', '135527-6-8-0.wav', '135527-6-9-0.wav', '135528-6-0-0.wav', '135528-6-1-0.wav', '135528-6-10-0.wav', '135528-6-11-0.wav', '135528-6-12-0.wav', '135528-6-2-0.wav', '135528-6-3-0.wav', '135528-6-4-0.wav', '135528-6-4-1.wav', '135528-6-4-2.wav', '135528-6-5-0.wav', '135528-6-6-0.wav', '135528-6-7-0.wav', '135528-6-8-0.wav', '135528-6-9-0.wav', '135544-6-0-0.wav', '135544-6-1-0.wav', '135544-6-10-0.wav', '135544-6-11-0.wav', '135544-6-12-0.wav', '135544-6-13-0.wav', '135544-6-14-0.wav', '135544-6-15-0.wav', '135544-6-16-0.wav', '135544-6-17-0.wav', '135544-6-18-0.wav', '135544-6-19-0.wav', '135544-6-2-0.wav', '135544-6-3-0.wav', '135544-6-4-0.wav', '135544-6-5-0.wav', '135544-6-6-0.wav', '135544-6-7-0.wav', '135544-6-8-0.wav', '135544-6-9-0.wav', '136399-6-0-0.wav', '136399-6-1-0.wav', '136399-6-2-0.wav', '136399-6-3-0.wav', '136399-6-4-0.wav', '136399-6-5-0.wav', '136399-6-6-0.wav', '136399-6-7-0.wav', '136399-6-8-0.wav', '136399-6-9-0.wav', '145206-6-0-0.wav', '145206-6-1-0.wav', '145206-6-2-0.wav', '145206-6-3-0.wav', '145206-6-4-0.wav', '145206-6-5-0.wav', '145608-6-0-0.wav', '145608-6-1-0.wav', '145608-6-2-0.wav', '145608-6-3-0.wav', '145609-6-0-0.wav', '145609-6-1-0.wav', '145611-6-0-0.wav', '145611-6-1-0.wav', '145611-6-2-0.wav', '145611-6-3-0.wav', '145611-6-4-0.wav', '145612-6-0-0.wav', '145612-6-1-0.wav', '145612-6-2-0.wav', '145612-6-3-0.wav', '145683-6-0-0.wav', '145683-6-1-0.wav', '145683-6-2-0.wav', '145683-6-3-0.wav', '145683-6-4-0.wav', '145683-6-5-0.wav', '147317-6-0-0.wav', '148166-6-0-0.wav', '148827-6-0-0.wav', '148827-6-1-0.wav', '148827-6-2-0.wav', '148827-6-3-0.wav', '148827-6-4-0.wav', '148828-6-0-0.wav', '148828-6-1-0.wav', '148833-6-0-0.wav', '148833-6-1-0.wav', '148834-6-0-0.wav', '148835-6-0-0.wav', '148835-6-1-0.wav', '148835-6-2-0.wav', '148835-6-3-0.wav', '148835-6-4-0.wav', '148837-6-0-0.wav', '148837-6-1-0.wav', '148837-6-2-0.wav', '148838-6-0-0.wav', '148838-6-1-0.wav', '148838-6-2-0.wav', '148841-6-0-0.wav', '148841-6-1-0.wav', '148841-6-2-0.wav', '149177-6-0-0.wav', '151065-6-0-0.wav', '151069-6-0-0.wav', '151071-6-0-0.wav', '156897-6-0-0.wav', '157207-6-0-0.wav', '157207-6-1-0.wav', '157207-6-10-0.wav', '157207-6-2-0.wav', '157207-6-3-0.wav', '157207-6-4-0.wav', '157207-6-5-0.wav', '157207-6-6-0.wav', '157207-6-7-0.wav', '157207-6-8-0.wav', '157207-6-9-0.wav', '157799-6-0-0.wav', '157800-6-0-0.wav', '157801-6-0-0.wav', '158977-6-0-0.wav', '158978-6-0-0.wav', '158979-6-0-0.wav', '159701-6-0-0.wav', '159701-6-1-0.wav', '159701-6-2-0.wav', '159701-6-3-0.wav', '159701-6-4-0.wav', '159701-6-5-0.wav', '159701-6-6-0.wav', '159702-6-0-0.wav', '159702-6-1-0.wav', '159702-6-2-0.wav', '159702-6-3-0.wav', '159702-6-4-0.wav', '159702-6-5-0.wav', '159702-6-6-0.wav', '159703-6-0-0.wav', '159704-6-0-0.wav', '159705-6-0-0.wav', '159706-6-0-0.wav', '159707-6-0-0.wav', '159708-6-0-0.wav', '159708-6-1-0.wav', '159708-6-2-0.wav', '159708-6-3-0.wav', '159708-6-4-0.wav', '159708-6-5-0.wav', '159708-6-6-0.wav', '159709-6-0-0.wav', '159710-6-0-0.wav', '161195-6-0-0.wav', '162431-6-0-0.wav', '162431-6-1-0.wav', '162431-6-2-0.wav', '162431-6-3-0.wav', '162432-6-0-0.wav', '162432-6-1-0.wav', '162432-6-10-0.wav', '162432-6-11-0.wav', '162432-6-12-0.wav', '162432-6-13-0.wav', '162432-6-14-0.wav', '162432-6-2-0.wav', '162432-6-3-0.wav', '162432-6-4-0.wav', '162432-6-5-0.wav', '162432-6-6-0.wav', '162432-6-7-0.wav', '162432-6-8-0.wav', '162432-6-9-0.wav', '162433-6-0-0.wav', '162433-6-1-0.wav', '162433-6-2-0.wav', '162433-6-3-0.wav', '162433-6-4-0.wav', '162433-6-5-0.wav', '162433-6-6-0.wav', '162433-6-7-0.wav', '162433-6-8-0.wav', '162434-6-0-0.wav', '162434-6-1-0.wav', '162434-6-2-0.wav', '162435-6-0-0.wav', '162435-6-1-0.wav', '162435-6-2-0.wav', '162435-6-3-0.wav', '162436-6-0-0.wav', '163460-6-0-0.wav', '164646-6-0-0.wav', '164667-6-0-0.wav', '169261-6-0-0.wav', '174282-6-0-0.wav', '174282-6-1-0.wav', '174282-6-2-0.wav', '174284-6-0-0.wav', '174284-6-1-0.wav', '174284-6-2-0.wav', '174285-6-0-0.wav', '174285-6-1-0.wav', '174285-6-2-0.wav', '174287-6-0-0.wav', '174287-6-1-0.wav', '174287-6-2-0.wav', '174287-6-3-0.wav', '174289-6-0-0.wav', '174289-6-1-0.wav', '174289-6-2-0.wav', '174289-6-3-0.wav', '174290-6-0-0.wav', '174290-6-1-0.wav', '174290-6-2-0.wav', '174290-6-3-0.wav', '174292-6-0-0.wav', '174292-6-1-0.wav', '174292-6-2-0.wav', '174293-6-0-0.wav', '174293-6-1-0.wav', '174293-6-2-0.wav', '174294-6-0-0.wav', '174294-6-1-0.wav', '174294-6-2-0.wav', '180960-6-0-0.wav', '191449-6-0-0.wav', '196400-6-0-0.wav', '197318-6-0-0.wav', '197318-6-1-0.wav', '197318-6-10-0.wav', '197318-6-11-0.wav', '197318-6-12-0.wav', '197318-6-2-0.wav', '197318-6-3-0.wav', '197318-6-4-0.wav', '197318-6-5-0.wav', '197318-6-6-0.wav', '197318-6-7-0.wav', '197318-6-8-0.wav', '197318-6-9-0.wav', '197320-6-0-0.wav', '197320-6-1-0.wav', '197320-6-10-0.wav', '197320-6-11-0.wav', '197320-6-12-0.wav', '197320-6-2-0.wav', '197320-6-3-0.wav', '197320-6-4-0.wav', '197320-6-5-0.wav', '197320-6-6-0.wav', '197320-6-7-0.wav', '197320-6-8-0.wav', '197320-6-9-0.wav', '200460-6-0-0.wav', '200460-6-1-0.wav', '200460-6-2-0.wav', '200460-6-3-0.wav', '200460-6-4-0.wav', '200460-6-5-0.wav', '205013-6-0-0.wav', '23161-6-0-0.wav', '23161-6-1-0.wav', '24631-6-0-0.wav', '24632-6-0-0.wav', '24632-6-1-0.wav', '24652-6-0-0.wav', '25037-6-0-0.wav', '25037-6-1-0.wav', '25038-6-0-0.wav', '25038-6-1-0.wav', '25039-6-0-0.wav', '25039-6-1-0.wav', '34708-6-0-0.wav', '34708-6-1-0.wav', '34708-6-2-0.wav', '34708-6-3-0.wav', '34708-6-4-0.wav', '34708-6-5-0.wav', '35799-6-0-0.wav', '35800-6-0-0.wav', '36403-6-0-0.wav', '37236-6-0-0.wav', '46654-6-0-0.wav', '46655-6-0-0.wav', '46656-6-0-0.wav', '46656-6-1-0.wav', '46656-6-2-0.wav', '46656-6-3-0.wav', '46656-6-4-0.wav', '46656-6-5-0.wav', '50618-6-0-0.wav', '52284-6-0-0.wav', '52357-6-0-0.wav', '64346-6-0-0.wav', '7060-6-0-0.wav', '7060-6-1-0.wav', '7060-6-2-0.wav', '7061-6-0-0.wav', '7062-6-0-0.wav', '7063-6-0-0.wav', '7064-6-0-0.wav', '7064-6-1-0.wav', '7064-6-2-0.wav', '7064-6-3-0.wav', '7064-6-4-0.wav', '7064-6-5-0.wav', '7065-6-0-0.wav', '7066-6-0-0.wav', '7066-6-1-0.wav', '7067-6-0-0.wav', '7068-6-0-0.wav', '76089-6-0-0.wav', '76090-6-0-0.wav', '76090-6-1-0.wav', '76091-6-0-0.wav', '76091-6-1-0.wav', '76091-6-2-0.wav', '76091-6-3-0.wav', '76091-6-4-0.wav', '76091-6-5-0.wav', '76093-6-0-0.wav', '76093-6-1-0.wav', '76094-6-0-0.wav', '76094-6-1-0.wav', '77246-6-0-0.wav', '77247-6-0-0.wav', '78776-6-0-0.wav', '84254-6-0-0.wav', '86278-6-0-0.wav', '87562-6-0-0.wav', '93139-6-0-0.wav']\n"
     ]
    }
   ],
   "source": [
    "# Add path to the directory where you want to story the data. \n",
    "your_path = \"C:/Users/maris/Documents/DataScience/Thesis/PinPoach_Thesis/Data/\"  # \"C:/Users/ ... /Data/\"\n",
    "# Define Youtube videos for download\n",
    "yt_videos = [\n",
    "    (\"OcVtCTBTJ-4\", 0, \"african_savanna_day\"),\n",
    "    (\"Bm_Gc4MXqfQ\", 0, \"african_savanna_night\"),\n",
    "    (\"Mr9T-943BnE\", 0, \"rain\"),\n",
    "    (\"T9IJKwEspI8\", 0, \"thunder\")\n",
    "]\n",
    "# Split size of recordings in seconds\n",
    "split_size = 10\n",
    "\n",
    "# Run this function if you want to extract gunshot recordigns from UrbanSound8K\n",
    "#main_UrbanSound8K(your_path)\n",
    "\n",
    "# Run this function if you want to split the manually downloaded YouTube audio files\n",
    "#downloadYoutubeFiles(your_path, yt_videos, split_size)   \n",
    "\n",
    "# Run this function if you want to pad the gunshot signals to a lenght of split_size seconds\n",
    "#uniformAudioFiles(your_path + 'gunshots/', your_path + 'SplitFiles/single_shots', split_size)"
   ]
  },
  {
   "attachments": {},
   "cell_type": "markdown",
   "metadata": {},
   "source": [
    "# Dependencies\n",
    "## Downloading UrbanSound8K\n",
    "1. Install sounddata package"
   ]
  },
  {
   "cell_type": "code",
   "execution_count": 17,
   "metadata": {},
   "outputs": [
    {
     "name": "stdout",
     "output_type": "stream",
     "text": [
      "Requirement already satisfied: soundata in c:\\users\\maris\\anaconda3\\lib\\site-packages (0.1.2)\n",
      "Requirement already satisfied: requests in c:\\users\\maris\\anaconda3\\lib\\site-packages (from soundata) (2.22.0)\n",
      "Requirement already satisfied: librosa>=0.8.0 in c:\\users\\maris\\anaconda3\\lib\\site-packages (from soundata) (0.9.2)\n",
      "Requirement already satisfied: numpy<=1.20,>=1.16 in c:\\users\\maris\\anaconda3\\lib\\site-packages (from soundata) (1.20.0)\n",
      "Requirement already satisfied: tqdm in c:\\users\\maris\\anaconda3\\lib\\site-packages (from soundata) (4.42.1)\n",
      "Requirement already satisfied: jams in c:\\users\\maris\\anaconda3\\lib\\site-packages (from soundata) (0.3.4)\n",
      "Requirement already satisfied: pandas in c:\\users\\maris\\anaconda3\\lib\\site-packages (from soundata) (1.3.5)\n",
      "Requirement already satisfied: resampy>=0.2.2 in c:\\users\\maris\\anaconda3\\lib\\site-packages (from librosa>=0.8.0->soundata) (0.3.1)\n",
      "Requirement already satisfied: numba>=0.45.1 in c:\\users\\maris\\anaconda3\\lib\\site-packages (from librosa>=0.8.0->soundata) (0.48.0)\n",
      "Requirement already satisfied: audioread>=2.1.9 in c:\\users\\maris\\anaconda3\\lib\\site-packages (from librosa>=0.8.0->soundata) (3.0.0)\n",
      "Requirement already satisfied: pooch>=1.0 in c:\\users\\maris\\anaconda3\\lib\\site-packages (from librosa>=0.8.0->soundata) (1.6.0)\n",
      "Requirement already satisfied: soundfile>=0.10.2 in c:\\users\\maris\\anaconda3\\lib\\site-packages (from librosa>=0.8.0->soundata) (0.12.1)\n",
      "Requirement already satisfied: scipy>=1.2.0 in c:\\users\\maris\\anaconda3\\lib\\site-packages (from librosa>=0.8.0->soundata) (1.7.3)\n",
      "Requirement already satisfied: scikit-learn>=0.19.1 in c:\\users\\maris\\anaconda3\\lib\\site-packages (from librosa>=0.8.0->soundata) (0.22.1)\n",
      "Requirement already satisfied: joblib>=0.14 in c:\\users\\maris\\anaconda3\\lib\\site-packages (from librosa>=0.8.0->soundata) (0.14.1)\n",
      "Requirement already satisfied: decorator>=4.0.10 in c:\\users\\maris\\anaconda3\\lib\\site-packages (from librosa>=0.8.0->soundata) (4.4.1)\n",
      "Requirement already satisfied: packaging>=20.0 in c:\\users\\maris\\anaconda3\\lib\\site-packages (from librosa>=0.8.0->soundata) (21.3)\n",
      "Requirement already satisfied: mir-eval>=0.5 in c:\\users\\maris\\anaconda3\\lib\\site-packages (from jams->soundata) (0.7)\n",
      "Requirement already satisfied: six in c:\\users\\maris\\anaconda3\\lib\\site-packages (from jams->soundata) (1.14.0)\n",
      "Requirement already satisfied: sortedcontainers>=2.0.0 in c:\\users\\maris\\anaconda3\\lib\\site-packages (from jams->soundata) (2.1.0)\n",
      "Requirement already satisfied: jsonschema>=3.0.0 in c:\\users\\maris\\anaconda3\\lib\\site-packages (from jams->soundata) (3.2.0)\n",
      "Requirement already satisfied: python-dateutil>=2.7.3 in c:\\users\\maris\\anaconda3\\lib\\site-packages (from pandas->soundata) (2.8.1)\n",
      "Requirement already satisfied: pytz>=2017.3 in c:\\users\\maris\\anaconda3\\lib\\site-packages (from pandas->soundata) (2019.3)\n",
      "Requirement already satisfied: idna<2.9,>=2.5 in c:\\users\\maris\\anaconda3\\lib\\site-packages (from requests->soundata) (2.8)\n",
      "Requirement already satisfied: chardet<3.1.0,>=3.0.2 in c:\\users\\maris\\anaconda3\\lib\\site-packages (from requests->soundata) (3.0.4)\n",
      "Requirement already satisfied: certifi>=2017.4.17 in c:\\users\\maris\\anaconda3\\lib\\site-packages (from requests->soundata) (2019.11.28)\n",
      "Requirement already satisfied: urllib3!=1.25.0,!=1.25.1,<1.26,>=1.21.1 in c:\\users\\maris\\anaconda3\\lib\\site-packages (from requests->soundata) (1.25.8)\n",
      "Requirement already satisfied: setuptools in c:\\users\\maris\\anaconda3\\lib\\site-packages (from jsonschema>=3.0.0->jams->soundata) (65.4.0)\n",
      "Requirement already satisfied: pyrsistent>=0.14.0 in c:\\users\\maris\\anaconda3\\lib\\site-packages (from jsonschema>=3.0.0->jams->soundata) (0.15.7)\n",
      "Requirement already satisfied: attrs>=17.4.0 in c:\\users\\maris\\anaconda3\\lib\\site-packages (from jsonschema>=3.0.0->jams->soundata) (19.3.0)\n",
      "Requirement already satisfied: importlib-metadata in c:\\users\\maris\\anaconda3\\lib\\site-packages (from jsonschema>=3.0.0->jams->soundata) (5.1.0)\n",
      "Requirement already satisfied: future in c:\\users\\maris\\anaconda3\\lib\\site-packages (from mir-eval>=0.5->jams->soundata) (0.18.2)\n",
      "Requirement already satisfied: llvmlite<0.32.0,>=0.31.0dev0 in c:\\users\\maris\\anaconda3\\lib\\site-packages (from numba>=0.45.1->librosa>=0.8.0->soundata) (0.31.0)\n",
      "Requirement already satisfied: pyparsing!=3.0.5,>=2.0.2 in c:\\users\\maris\\anaconda3\\lib\\site-packages (from packaging>=20.0->librosa>=0.8.0->soundata) (2.4.6)\n",
      "Requirement already satisfied: appdirs>=1.3.0 in c:\\users\\maris\\anaconda3\\lib\\site-packages (from pooch>=1.0->librosa>=0.8.0->soundata) (1.4.4)\n",
      "Requirement already satisfied: cffi>=1.0 in c:\\users\\maris\\anaconda3\\lib\\site-packages (from soundfile>=0.10.2->librosa>=0.8.0->soundata) (1.14.0)\n",
      "Requirement already satisfied: pycparser in c:\\users\\maris\\anaconda3\\lib\\site-packages (from cffi>=1.0->soundfile>=0.10.2->librosa>=0.8.0->soundata) (2.19)\n",
      "Requirement already satisfied: zipp>=0.5 in c:\\users\\maris\\anaconda3\\lib\\site-packages (from importlib-metadata->jsonschema>=3.0.0->jams->soundata) (2.2.0)\n",
      "Requirement already satisfied: typing-extensions>=3.6.4 in c:\\users\\maris\\anaconda3\\lib\\site-packages (from importlib-metadata->jsonschema>=3.0.0->jams->soundata) (4.1.1)\n"
     ]
    }
   ],
   "source": [
    "!pip install soundata"
   ]
  },
  {
   "cell_type": "code",
   "execution_count": 15,
   "metadata": {},
   "outputs": [
    {
     "name": "stdout",
     "output_type": "stream",
     "text": [
      "Requirement already satisfied: patsy in c:\\users\\maris\\anaconda3\\lib\\site-packages (0.5.1)\n",
      "Collecting patsy\n",
      "  Downloading patsy-0.5.3-py2.py3-none-any.whl (233 kB)\n",
      "     -------------------------------------- 233.8/233.8 kB 4.9 MB/s eta 0:00:00\n",
      "Requirement already satisfied: six in c:\\users\\maris\\anaconda3\\lib\\site-packages (from patsy) (1.14.0)\n",
      "Requirement already satisfied: numpy>=1.4 in c:\\users\\maris\\anaconda3\\lib\\site-packages (from patsy) (1.20.0)\n",
      "Installing collected packages: patsy\n",
      "  Attempting uninstall: patsy\n",
      "    Found existing installation: patsy 0.5.1\n",
      "    Uninstalling patsy-0.5.1:\n",
      "      Successfully uninstalled patsy-0.5.1\n",
      "Successfully installed patsy-0.5.3\n"
     ]
    },
    {
     "name": "stderr",
     "output_type": "stream",
     "text": [
      "Keyring is skipped due to an exception: 'keyring.backends'\n",
      "\n",
      "[notice] A new release of pip available: 22.2.2 -> 23.0.1\n",
      "[notice] To update, run: python.exe -m pip install --upgrade pip\n"
     ]
    }
   ],
   "source": [
    "!pip install --upgrade patsy"
   ]
  },
  {
   "cell_type": "code",
   "execution_count": 16,
   "metadata": {},
   "outputs": [
    {
     "name": "stdout",
     "output_type": "stream",
     "text": [
      "Requirement already satisfied: pip in c:\\users\\maris\\anaconda3\\lib\\site-packages (22.2.2)\n",
      "Collecting pip\n",
      "  Downloading pip-23.0.1-py3-none-any.whl (2.1 MB)\n",
      "     ---------------------------------------- 2.1/2.1 MB 4.1 MB/s eta 0:00:00\n",
      "Installing collected packages: pip\n",
      "  Attempting uninstall: pip\n",
      "    Found existing installation: pip 22.2.2\n",
      "    Uninstalling pip-22.2.2:\n",
      "      Successfully uninstalled pip-22.2.2\n",
      "Successfully installed pip-23.0.1\n"
     ]
    },
    {
     "name": "stderr",
     "output_type": "stream",
     "text": [
      "Keyring is skipped due to an exception: 'keyring.backends'\n"
     ]
    }
   ],
   "source": [
    "!python -m pip install --upgrade pip"
   ]
  },
  {
   "attachments": {},
   "cell_type": "markdown",
   "metadata": {},
   "source": [
    "2. Download data"
   ]
  },
  {
   "cell_type": "code",
   "execution_count": 19,
   "metadata": {},
   "outputs": [
    {
     "name": "stderr",
     "output_type": "stream",
     "text": [
      "INFO: NumExpr defaulting to 8 threads.\n",
      "INFO: Downloading ['all'] to C:\\Users\\maris\\Documents\\Data Science\\Thesis\\Previous research\\Chengeta_model-master\n",
      "INFO: [all] downloading UrbanSound8K.tar.gz\n",
      "5.61GB [34:08, 2.94MB/s]                                \n",
      "100%|██████████| 1/1 [00:00<?, ?it/s]\n",
      "100%|██████████| 8732/8732 [01:37<00:00, 89.66it/s] \n",
      "INFO: Success: the dataset is complete and all files are valid.\n",
      "INFO: --------------------\n"
     ]
    },
    {
     "name": "stdout",
     "output_type": "stream",
     "text": [
      "Clip(\n",
      "  audio_path=\"...\\Documents\\Data Science\\Thesis\\Previous research\\Chengeta_model-master\\audio/fold8/157868-8-0-17.wav\",\n",
      "  clip_id=\"157868-8-0-17\",\n",
      "  audio: The clip's audio\n",
      "            * np.ndarray - audio signal\n",
      "            * float - sample rate,\n",
      "  class_id: The clip's class id.\n",
      "            * int - integer representation of the class label (0-9). See Dataset Info in the documentation for mapping,\n",
      "  class_label: The clip's class label.\n",
      "            * str - string class name: air_conditioner, car_horn, children_playing, dog_bark, drilling, engine_idling, gun_shot, jackhammer, siren, street_music,\n",
      "  fold: The clip's fold.\n",
      "            * int - fold number (1-10) to which this clip is allocated. Use these folds for cross validation,\n",
      "  freesound_end_time: The clip's end time in Freesound.\n",
      "            * float - end time in seconds of the clip in the original freesound recording,\n",
      "  freesound_id: The clip's Freesound ID.\n",
      "            * str - ID of the freesound.org recording from which this clip was taken,\n",
      "  freesound_start_time: The clip's start time in Freesound.\n",
      "            * float - start time in seconds of the clip in the original freesound recording,\n",
      "  salience: The clip's salience.\n",
      "            * int - annotator estimate of class sailence in the clip: 1 = foreground, 2 = background,\n",
      "  slice_file_name: The clip's slice filename.\n",
      "            * str - The name of the audio file. The name takes the following format: [fsID]-[classID]-[occurrenceID]-[sliceID].wav,\n",
      "  tags: The clip's tags.\n",
      "            * annotations.Tags - tag (label) of the clip + confidence. In UrbanSound8K every clip has one tag,\n",
      ")\n"
     ]
    }
   ],
   "source": [
    "# This is the example code\n",
    "import soundata\n",
    "\n",
    "dataset = soundata.initialize('urbansound8k', data_home=r'C:\\Users\\maris\\Documents\\Data Science\\Thesis\\Previous research\\Chengeta_model-master')\n",
    "dataset.download()  # download the dataset\n",
    "dataset.validate()  # validate that all the expected files are there\n",
    "\n",
    "example_clip = dataset.choice_clip()  # choose a random example clip\n",
    "print(example_clip)  # see the available data"
   ]
  },
  {
   "attachments": {},
   "cell_type": "markdown",
   "metadata": {},
   "source": [
    "__Citation__:\n",
    "@misc{fuentes_salamon2021soundata,\n",
    "      title={Soundata: A Python library for reproducible use of audio datasets}, \n",
    "      author={Magdalena Fuentes and Justin Salamon and Pablo Zinemanas and Martín Rocamora and \n",
    "      Genís Plaja and Irán R. Román and Marius Miron and Xavier Serra and Juan Pablo Bello},\n",
    "      year={2021},\n",
    "      eprint={2109.12690},\n",
    "      archivePrefix={arXiv},\n",
    "      primaryClass={cs.SD}\n",
    "}"
   ]
  },
  {
   "attachments": {},
   "cell_type": "markdown",
   "metadata": {},
   "source": [
    "## Dependent libraries\n",
    "### youtube_dl"
   ]
  },
  {
   "cell_type": "code",
   "execution_count": 20,
   "metadata": {},
   "outputs": [
    {
     "name": "stdout",
     "output_type": "stream",
     "text": [
      "Collecting youtube_dl\n",
      "  Downloading youtube_dl-2021.12.17-py2.py3-none-any.whl (1.9 MB)\n",
      "     ---------------------------------------- 1.9/1.9 MB 10.1 MB/s eta 0:00:00\n",
      "Installing collected packages: youtube_dl\n",
      "Successfully installed youtube_dl-2021.12.17\n"
     ]
    }
   ],
   "source": [
    "!pip install youtube_dl"
   ]
  },
  {
   "attachments": {},
   "cell_type": "markdown",
   "metadata": {},
   "source": [
    "### ffmpeg\n",
    "Sources used:\n",
    "1. Install ffmpeg on your local machine. You can download it from the official website: https://ffmpeg.org/download.html.\n",
    "\n",
    "2. After installing ffmpeg, you can add the path of the ffmpeg executable to your system environment variables. To do this on Windows: Open the Start menu and search for \"Environment Variables\". Click \"Edit the system environment variables\". Click the \"Environment Variables\" button. Under \"System variables\", scroll down and find the \"Path\" variable. Click \"Edit\". Click \"New\" and add the path to the folder containing the ffmpeg executable. For example, C:\\Program Files\\ffmpeg\\bin. Click \"OK\" to close all windows.\n",
    "\n",
    "3. After adding the ffmpeg path to your system environment variables, you can import it in Jupyter Notebooks using the subprocess module:\n",
    "\n",
    "(Chat GPT)\n",
    "\n",
    "And: https://answers.microsoft.com/en-us/windows/forum/all/cant-edit-environment-variables-in-windows-10/29ca1561-5c4d-4c0d-ab93-808411a062a3 for accessing the system controls "
   ]
  },
  {
   "cell_type": "code",
   "execution_count": 22,
   "metadata": {},
   "outputs": [],
   "source": [
    "import subprocess\n"
   ]
  },
  {
   "cell_type": "code",
   "execution_count": null,
   "metadata": {},
   "outputs": [],
   "source": []
  }
 ],
 "metadata": {
  "kernelspec": {
   "display_name": "base",
   "language": "python",
   "name": "python3"
  },
  "language_info": {
   "codemirror_mode": {
    "name": "ipython",
    "version": 3
   },
   "file_extension": ".py",
   "mimetype": "text/x-python",
   "name": "python",
   "nbconvert_exporter": "python",
   "pygments_lexer": "ipython3",
   "version": "3.7.6"
  },
  "orig_nbformat": 4,
  "vscode": {
   "interpreter": {
    "hash": "5828ea3be4fae7857acf2b81f1dbd203cd4e4664cfcd1ae2cec06b2cde5c88c8"
   }
  }
 },
 "nbformat": 4,
 "nbformat_minor": 2
}
